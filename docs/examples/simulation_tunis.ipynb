{
 "cells": [
  {
   "cell_type": "markdown",
   "metadata": {},
   "source": [
    "# Example of a typical simulation done with pvpumpingsystem"
   ]
  },
  {
   "cell_type": "markdown",
   "metadata": {},
   "source": [
    "Let's consider a photovoltaic water pumping system (PVPS) installed near Tunis, Tunisia. Users would like to know how much water will be pumped per year, and what is the risk of a water shortage given a specified consumption."
   ]
  },
  {
   "cell_type": "markdown",
   "metadata": {},
   "source": [
    "To start with, let's have a look at what a PV pumping system is typically made of. The system can be divided in 5 major parts: PV generation, power electronics, motor-pump, pipes network and a reservoir. The PV generator converts\n",
    "solar irradiance in electric power, whose characteristics can be modified by a power conditioning unit before entering the motor-pump. Then the motor-pump transfers water from the water soure to the reservoir where it will stay until used.\n",
    "![General schema of a PV pumping system](images/schema_pvps.jpg)"
   ]
  },
  {
   "cell_type": "markdown",
   "metadata": {},
   "source": [
    "Note that the version 1.0 of this package focuses on small and medium size PVPS, for which DC motor-pumps are very common. Therefore modeling AC motor-pumps (which are used for more important flow-rates) and inverters is not yet possible, and power electronics limits to MPPT/DC-DC converters at the moment.\n",
    "\n",
    "This package considers energy storage only via the form of a reservoir. In a PVPS, a reservoir can ultimately do the same than a battery, that is to say provide water when the sun does not shine. That said, adding a battery at the level of the power-conditioning unit could be modeled as well, and is one feature to be developed in the future."
   ]
  },
  {
   "cell_type": "markdown",
   "metadata": {},
   "source": [
    "## Import of needed modules"
   ]
  },
  {
   "cell_type": "code",
   "execution_count": 8,
   "metadata": {},
   "outputs": [],
   "source": [
    "import matplotlib.pyplot as plt\n",
    "import pandas as pd\n",
    "\n",
    "import pvpumpingsystem.pvgeneration as pvgen\n",
    "import pvpumpingsystem.mppt as mppt\n",
    "import pvpumpingsystem.pump as pp\n",
    "import pvpumpingsystem.pipenetwork as pn\n",
    "import pvpumpingsystem.reservoir as rv\n",
    "import pvpumpingsystem.consumption as cs\n",
    "import pvpumpingsystem.pvpumpsystem as pvps"
   ]
  },
  {
   "cell_type": "markdown",
   "metadata": {},
   "source": []
  },
  {
   "cell_type": "code",
   "execution_count": null,
   "metadata": {},
   "outputs": [],
   "source": []
  }
 ],
 "metadata": {
  "kernelspec": {
   "display_name": "Python 3",
   "language": "python",
   "name": "python3"
  },
  "language_info": {
   "codemirror_mode": {
    "name": "ipython",
    "version": 3
   },
   "file_extension": ".py",
   "mimetype": "text/x-python",
   "name": "python",
   "nbconvert_exporter": "python",
   "pygments_lexer": "ipython3",
   "version": "3.7.7"
  }
 },
 "nbformat": 4,
 "nbformat_minor": 4
}
