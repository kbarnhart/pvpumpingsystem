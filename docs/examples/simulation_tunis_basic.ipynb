{
 "cells": [
  {
   "cell_type": "markdown",
   "metadata": {},
   "source": [
    "# Example of a basic simulation done with pvpumpingsystem"
   ]
  },
  {
   "cell_type": "markdown",
   "metadata": {},
   "source": [
    "## Introduction to photovoltaic pumping systems"
   ]
  },
  {
   "cell_type": "markdown",
   "metadata": {},
   "source": [
    "To start with, let's have a look at what a PV pumping system is typically made of. The system can be divided in 5 major parts: PV generation, power electronics, motor-pump, pipes network and a reservoir. The PV generator converts\n",
    "solar irradiance in electric power, whose characteristics can be modified by a power conditioning unit before entering the motor-pump. Then the motor-pump transfers water from the water source to the reservoir where it will stay until used.\n",
    "![General schema of a PV pumping system](images/schema_pvps.jpg)"
   ]
  },
  {
   "cell_type": "markdown",
   "metadata": {},
   "source": [
    "Note that the version 1.0 of this package focuses on small and medium size PVPS, for which DC motor-pumps are very common. Therefore modeling AC motor-pumps (which are used for more important flow-rates) and inverters is not yet possible, and power electronics limits to MPPT/DC-DC converters at the moment.\n",
    "\n",
    "This package considers energy storage via the form of a reservoir. In a PVPS, a reservoir can ultimately do the same than a battery, that is to say provide water when the sun does not shine. That said, adding a battery at the level of the power-conditioning unit could be modeled as well, and is one feature to be developed in the future."
   ]
  },
  {
   "cell_type": "markdown",
   "metadata": {},
   "source": [
    "## Basic simulation"
   ]
  },
  {
   "cell_type": "markdown",
   "metadata": {},
   "source": [
    "Let's consider a photovoltaic water pumping system (PVPS) installed near Tunis, Tunisia. In order to introduce the global structure of the code, a very simple pumping system is considered here: the system does not include reservoir, the prices are unknown, and the user only wants to know how much water will be pumped on a typical year with its system."
   ]
  },
  {
   "cell_type": "markdown",
   "metadata": {},
   "source": [
    "### Definition of the PVPS"
   ]
  },
  {
   "cell_type": "code",
   "execution_count": 1,
   "metadata": {},
   "outputs": [],
   "source": [
    "import matplotlib.pyplot as plt\n",
    "\n",
    "import pvpumpingsystem.pvgeneration as pvgen\n",
    "import pvpumpingsystem.mppt as mppt\n",
    "import pvpumpingsystem.pump as pp\n",
    "import pvpumpingsystem.pipenetwork as pn\n",
    "import pvpumpingsystem.pvpumpsystem as pvps"
   ]
  },
  {
   "cell_type": "markdown",
   "metadata": {},
   "source": [
    "To set the power generation part, the weather file of the location must be imported first. In this case, the closest .epw weather file is the one of Tunis, so it is imported.\n",
    "Energy Plus Weather files are the default format accepted for which a simple path can be given. These files can be found at https://energyplus.net/weather. Other formats can be used as well, including pvgis tmy, tmy2, tmy3, nsrdb psm3, and others. To this end, the corresponding functions from *pvlib* can be used (cf https://pvlib-python.readthedocs.io/en/stable/api.html#io-tools).\n",
    "\n",
    "Secondly, The PV array must be defined. The name has to be precised enough for the software to find it in the CEC PV module database (database updated every year at least). The number of PV modules and how they are connected together is then defined with ``modules_per_string`` and ``strings_in_parallel``.\n",
    "\n",
    "Thirdly, the orientation of the PV array is selected. The option ``south_at_latitude_tilt`` sets the azimuth of the array to the south (if in northern hemisphere, north otherwise), and the tilt of the array at the latitude of the location (read from the weather file). This orientation is a common rule of thumb for optimising the yearly photovoltaic output of a fixed array.\n"
   ]
  },
  {
   "cell_type": "code",
   "execution_count": 2,
   "metadata": {},
   "outputs": [],
   "source": [
    "pvgen1 = pvgen.PVGeneration(\n",
    "    # Weather data path\n",
    "    weather_data_and_metadata=(\n",
    "        '../../pvpumpingsystem/data/weather_files/'\n",
    "        'TUN_Tunis.607150_IWEC.epw'),\n",
    "\n",
    "    # PV array parameters\n",
    "    pv_module_name='Canadian Solar CS5C 80M',  # Name of pv module to model\n",
    "    modules_per_string=4,\n",
    "    strings_in_parallel=1,\n",
    "\n",
    "    # Models used (check pvlib.modelchain for all available models)\n",
    "    orientation_strategy='south_at_latitude_tilt',  # or 'flat' or None\n",
    "    )\n"
   ]
  },
  {
   "cell_type": "markdown",
   "metadata": {},
   "source": [
    "MPPT converter is simply defined as follows. Default efficiency is set at 96%."
   ]
  },
  {
   "cell_type": "code",
   "execution_count": 3,
   "metadata": {},
   "outputs": [],
   "source": [
    "mppt1 = mppt.MPPT(efficiency=0.96,\n",
    "                  idname='PCA-120-BLS-M2'\n",
    "                  )"
   ]
  },
  {
   "cell_type": "markdown",
   "metadata": {},
   "source": [
    "The motor-pump has to be defined then. A limited database is natively available in ``pvpumpingsystem/data/pump_files``, but any other pump with sufficient specifications can be entered. For entering new pump data:\n",
    "1) open the template available at: \"/pvpumpingsystem/data/pump_files/0_template_for_pump_specs.txt\"\n",
    "2) write your specs (watch the units!),\n",
    "3) save it under a new name (like \"name_of_pump.txt\"),\n",
    "4) and close the file."
   ]
  },
  {
   "cell_type": "code",
   "execution_count": 4,
   "metadata": {},
   "outputs": [],
   "source": [
    "pump_sunpump = pp.Pump(path=\"../../pvpumpingsystem/data/pump_files/SCB_10_150_120_BL.txt\")"
   ]
  },
  {
   "cell_type": "markdown",
   "metadata": {},
   "source": [
    "Pipes network considered here has a static head (vertical distance between pump and pipes output) of 20m, a total length of 100m and a diameter of 5cm. This diameter is relatively important"
   ]
  },
  {
   "cell_type": "code",
   "execution_count": 5,
   "metadata": {},
   "outputs": [],
   "source": [
    "pipes1 = pn.PipeNetwork(h_stat=20,  # static head [m]\n",
    "                        l_tot=100,  # length of pipes [m]\n",
    "                        diam=0.05,  # diameter [m]\n",
    "                        material='plastic')"
   ]
  },
  {
   "cell_type": "markdown",
   "metadata": {},
   "source": [
    "All components previously defined must be \"assemble\" now. That is also the moment to choose how to couple the system; directly or through a MPPT converter. If \"direct\" is chosen, the MPPT object declared will be ignored.\n",
    "\n",
    "Note that assembling all the object at the last moment allows to define numerous objects before (for example: 2 different PV array set-up that can be called \"pvgen1\" and \"pvgen2\", 3 different pumps \"pump1\", \"pump2\", \"pump3\", etc), and to easily change the combinations to model then."
   ]
  },
  {
   "cell_type": "code",
   "execution_count": 6,
   "metadata": {},
   "outputs": [],
   "source": [
    "pvps1 = pvps.PVPumpSystem(pvgen1,\n",
    "                          pump_sunpump,\n",
    "                          coupling='direct',  # to adapt: 'mppt' or 'direct',\n",
    "                          mppt=mppt1,\n",
    "                          pipes=pipes1)\n",
    "pvps1.run_model()"
   ]
  },
  {
   "cell_type": "markdown",
   "metadata": {},
   "source": [
    "### Results"
   ]
  },
  {
   "cell_type": "code",
   "execution_count": 7,
   "metadata": {},
   "outputs": [
    {
     "name": "stdout",
     "output_type": "stream",
     "text": [
      "PVPSystem made of: \n",
      "pvgeneration: PV generator made of: \n",
      "pv module: Canadian_Solar_Inc__CS5C_80M\n",
      "number of modules: 4\n",
      "in: Location: \n",
      "  name: TUNIS\n",
      "  latitude: 36.83\n",
      "  longitude: 10.23\n",
      "  altitude: 4.0\n",
      "  tz: 1.0 \n",
      "pump: name: SCB_10_150_120_BL\n",
      "price: 1097.0\n",
      "modeling method: arab)\n",
      "\n",
      "total water pumped in the year =  1101132.0454332263\n",
      "\n",
      "details on second day of pumping = \n",
      "                                 Qlpm         I          V           P  \\\n",
      "2005-01-02 00:00:00+01:00   0.000000  0.000000   0.000000    0.000000   \n",
      "2005-01-02 01:00:00+01:00   0.000000  0.000000   0.000000    0.000000   \n",
      "2005-01-02 02:00:00+01:00   0.000000  0.000000   0.000000    0.000000   \n",
      "2005-01-02 03:00:00+01:00   0.000000  0.000000   0.000000    0.000000   \n",
      "2005-01-02 04:00:00+01:00   0.000000  0.000000   0.000000    0.000000   \n",
      "2005-01-02 05:00:00+01:00   0.000000  0.000000   0.000000    0.000000   \n",
      "2005-01-02 06:00:00+01:00   0.000000  0.000000   0.000000    0.000000   \n",
      "2005-01-02 07:00:00+01:00   0.000000       NaN        NaN         NaN   \n",
      "2005-01-02 08:00:00+01:00   0.000000       NaN        NaN         NaN   \n",
      "2005-01-02 09:00:00+01:00   0.000000       NaN        NaN         NaN   \n",
      "2005-01-02 10:00:00+01:00   8.675447  2.493669  67.308309  144.219424   \n",
      "2005-01-02 11:00:00+01:00  12.250114  2.785370  71.389807  170.857996   \n",
      "2005-01-02 12:00:00+01:00  12.656080  2.817853  71.844310  173.950993   \n",
      "2005-01-02 13:00:00+01:00  12.021010  2.766987  71.132589  169.118815   \n",
      "2005-01-02 14:00:00+01:00   9.145671  2.532694  67.854351  147.664706   \n",
      "2005-01-02 15:00:00+01:00   0.000000       NaN        NaN         NaN   \n",
      "2005-01-02 16:00:00+01:00   0.000000       NaN        NaN         NaN   \n",
      "2005-01-02 17:00:00+01:00   0.000000       NaN        NaN         NaN   \n",
      "2005-01-02 18:00:00+01:00   0.000000  0.000000   0.000000    0.000000   \n",
      "2005-01-02 19:00:00+01:00   0.000000  0.000000   0.000000    0.000000   \n",
      "2005-01-02 20:00:00+01:00   0.000000  0.000000   0.000000    0.000000   \n",
      "2005-01-02 21:00:00+01:00   0.000000  0.000000   0.000000    0.000000   \n",
      "2005-01-02 22:00:00+01:00   0.000000  0.000000   0.000000    0.000000   \n",
      "\n",
      "                           P_unused  tdh  \n",
      "2005-01-02 00:00:00+01:00       0.0   20  \n",
      "2005-01-02 01:00:00+01:00       0.0   20  \n",
      "2005-01-02 02:00:00+01:00       0.0   20  \n",
      "2005-01-02 03:00:00+01:00       0.0   20  \n",
      "2005-01-02 04:00:00+01:00       0.0   20  \n",
      "2005-01-02 05:00:00+01:00       0.0   20  \n",
      "2005-01-02 06:00:00+01:00       0.0   20  \n",
      "2005-01-02 07:00:00+01:00       NaN   20  \n",
      "2005-01-02 08:00:00+01:00       NaN   20  \n",
      "2005-01-02 09:00:00+01:00       NaN   20  \n",
      "2005-01-02 10:00:00+01:00       0.0   20  \n",
      "2005-01-02 11:00:00+01:00       0.0   20  \n",
      "2005-01-02 12:00:00+01:00       0.0   20  \n",
      "2005-01-02 13:00:00+01:00       0.0   20  \n",
      "2005-01-02 14:00:00+01:00       0.0   20  \n",
      "2005-01-02 15:00:00+01:00       NaN   20  \n",
      "2005-01-02 16:00:00+01:00       NaN   20  \n",
      "2005-01-02 17:00:00+01:00       NaN   20  \n",
      "2005-01-02 18:00:00+01:00       0.0   20  \n",
      "2005-01-02 19:00:00+01:00       0.0   20  \n",
      "2005-01-02 20:00:00+01:00       0.0   20  \n",
      "2005-01-02 21:00:00+01:00       0.0   20  \n",
      "2005-01-02 22:00:00+01:00       0.0   20  \n"
     ]
    }
   ],
   "source": [
    "print(pvps1)\n",
    "print('\\ntotal water pumped in the year = ', pvps1.flow.Qlpm.sum()*60)\n",
    "print('\\ndetails on second day of pumping = \\n', pvps1.flow[24:47])"
   ]
  },
  {
   "cell_type": "markdown",
   "metadata": {},
   "source": [
    "Among the most relevant results we can consult the effective irradiance received, the electric power used by the motor and the system output flow rate hour-by-hour. Let's take a look at the second day of the simulation: "
   ]
  },
  {
   "cell_type": "code",
   "execution_count": 8,
   "metadata": {},
   "outputs": [
    {
     "data": {
      "text/plain": [
       "Text(0.5, 1.0, 'Output flow-rate vs time')"
      ]
     },
     "execution_count": 8,
     "metadata": {},
     "output_type": "execute_result"
    },
    {
     "data": {
      "image/png": "[encoded data removed]",
      "text/plain": [
       "<Figure size 432x288 with 1 Axes>"
      ]
     },
     "metadata": {
      "needs_background": "light"
     },
     "output_type": "display_data"
    },
    {
     "data": {
      "image/png": "[encoded data removed]",
      "text/plain": [
       "<Figure size 432x288 with 1 Axes>"
      ]
     },
     "metadata": {
      "needs_background": "light"
     },
     "output_type": "display_data"
    },
    {
     "data": {
      "image/png": "[encoded data removed]",
      "text/plain": [
       "<Figure size 432x288 with 1 Axes>"
      ]
     },
     "metadata": {
      "needs_background": "light"
     },
     "output_type": "display_data"
    }
   ],
   "source": [
    "# effective irradiance on PV array\n",
    "plt.figure()\n",
    "plt.plot(pvps1.efficiency.index[24:47].hour,\n",
    "         pvps1.pvgeneration.modelchain.effective_irradiance[24:47])\n",
    "plt.xlabel('Hour')\n",
    "plt.title('Effective irradiance vs time')\n",
    "plt.xlim([-1,23])\n",
    "\n",
    "# PV electric power\n",
    "plt.figure()\n",
    "plt.plot(pvps1.efficiency.index[24:47].hour,\n",
    "         pvps1.efficiency.electric_power[24:47])\n",
    "plt.xlabel('Hour')\n",
    "plt.title('Electric power in vs time')\n",
    "\n",
    "# Water volume in reservoir and output flow rate\n",
    "plt.figure()\n",
    "plt.plot(pvps1.efficiency.index[24:47].hour,\n",
    "         pvps1.flow.Qlpm[24:47])\n",
    "plt.xlabel('Hour')\n",
    "plt.ylabel('Pump output flow-rate [L/min]')\n",
    "plt.title('Output flow-rate vs time')"
   ]
  },
  {
   "cell_type": "markdown",
   "metadata": {},
   "source": [
    "The first graph shows a typical sunny day. The irradiance constinuously increases until reaching its maximum around noon and decreases then.\n",
    "The second graph shows the electrical power used by the pump. When at zero, it means that no power is generated from the PV generator. When NaN (no point on graph), there is power generated by the PV array but no operating point can be found with the motor-pump. When superior to zero, power is consumed by the pump and water flows.\n",
    "The third graph shows the output flow-rate of the system. It can be noticed that water is actually pumped only between 10am and 2pm here."
   ]
  },
  {
   "cell_type": "markdown",
   "metadata": {},
   "source": [
    "### Direct or MPPT coupling?"
   ]
  },
  {
   "cell_type": "markdown",
   "metadata": {},
   "source": [
    "Graph of match between PV array and motor-pump in the case of direct coupling. \n",
    "The 2 bended curves are from the PV array: the biggest is in ideal weather conditions whereas the smallest one represents poor weather conditions, therefore at any time during daytime the actual IV curve from PV array will typically be somewhere between these two curves.\n",
    "The green line is the IV curve of the motor-pump. The more this curve is between the 2 others, the more the pump will works at any time of the day. If the match is particularly good, it can be interesting no to use any MPPT to save on its cost."
   ]
  },
  {
   "cell_type": "code",
   "execution_count": 9,
   "metadata": {},
   "outputs": [
    {
     "data": {
      "image/png": "[encoded data removed]",
      "text/plain": [
       "<Figure size 432x288 with 1 Axes>"
      ]
     },
     "metadata": {
      "needs_background": "light"
     },
     "output_type": "display_data"
    }
   ],
   "source": [
    "if pvps1.coupling == 'direct':\n",
    "    pvps1.operating_point_noiteration(plot=True)"
   ]
  }
 ],
 "metadata": {
  "kernelspec": {
   "display_name": "Python 3",
   "language": "python",
   "name": "python3"
  },
  "language_info": {
   "codemirror_mode": {
    "name": "ipython",
    "version": 3
   },
   "file_extension": ".py",
   "mimetype": "text/x-python",
   "name": "python",
   "nbconvert_exporter": "python",
   "pygments_lexer": "ipython3",
   "version": "3.7.7"
  }
 },
 "nbformat": 4,
 "nbformat_minor": 4
}
