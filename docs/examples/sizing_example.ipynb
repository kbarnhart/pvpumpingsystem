{
 "cells": [
  {
   "cell_type": "markdown",
   "metadata": {},
   "source": [
    "# Example of automated sizing with pvpumpingsystem"
   ]
  },
  {
   "cell_type": "markdown",
   "metadata": {},
   "source": [
    "This example follows on from the two that relate more specifically to simulation, namely [simulation_tunis_basic](simulation_tunis_basic.ipynb) and [simulation_tunis_advanced](simulation_tunis_advanced.ipynb). The concepts already covered in these examples are not discussed again here.\n",
    "\n",
    "So far, only one kind of sizing is available. This sizing aims at choosing the most cost-efficient combination among two collections: one for PV modules and one for motor-pumps. The process first makes a factorial design with these two collections. For each combination of pump and PV module, the sizing process computes the number of PV modules required to pump enough water in order to respect the maximum water shortage probability tolerated (named llp_accepted). At this stage, some pumps are found to be unable to provide enough water regardless of the number of PV modules, so they are discarded.\n",
    "Then, among the remaining combinations, the process selects the combination with the lowest net present value and returns it as the solution. Note that this strategy can be particularly long to calculate if the pump or PV module datasets are large.\n",
    "\n",
    "In the future, some of the inputs considered here could become outputs of other sizing processes, like reservoir size, orientation of the PV array, the coupling strategy or even the diameter of pipes. Moreover, numerous other criteria and algorithms could be used for sizing such systems.\n",
    "\n",
    "![Diagram of sizing process](../images/schema_sizing_2.jpg)\n",
    "\n",
    "Therefore the module 'sizing.py' does not pretend to be comprehensive, and it leaves room for many improvements, extension and new functions. Do not hesitate to share once you have developed the sizing method that suits you best!"
   ]
  },
  {
   "cell_type": "markdown",
   "metadata": {},
   "source": [
    "## Import of dependencies"
   ]
  },
  {
   "cell_type": "code",
   "execution_count": 1,
   "metadata": {},
   "outputs": [],
   "source": [
    "import pvlib\n",
    "\n",
    "import pvpumpingsystem.pump as pp\n",
    "import pvpumpingsystem.pipenetwork as pn\n",
    "import pvpumpingsystem.consumption as cs\n",
    "import pvpumpingsystem.pvpumpsystem as pvps\n",
    "import pvpumpingsystem.pvgeneration as pvgen\n",
    "import pvpumpingsystem.reservoir as rv\n",
    "import pvpumpingsystem.mppt as mppt\n",
    "from pvpumpingsystem import sizing"
   ]
  },
  {
   "cell_type": "markdown",
   "metadata": {},
   "source": [
    "## Pump and PV module databases"
   ]
  },
  {
   "cell_type": "markdown",
   "metadata": {},
   "source": [
    "Three pumps are available here. The user wants to find the one which fits best for the application. First the 3 pumps must be imported.\n",
    "\n",
    "Note that the motor-pumps coming from 'sunpump' follow a naming convention: the 3 numbers are respectively the flow rate in GPM, the Head in feet, and the voltage in V at the rated operating point. Note that the rated voltage is also the maximum input voltage for the pump."
   ]
  },
  {
   "cell_type": "code",
   "execution_count": 2,
   "metadata": {},
   "outputs": [
    {
     "name": "stderr",
     "output_type": "stream",
     "text": [
      "c:\\users\\tanguy\\documents\\code\\src\\pvpumpingsystem\\pvpumpingsystem\\pump.py:94: UserWarning: price attribute overwritten.\n",
      "  warnings.warn('price attribute overwritten.')\n"
     ]
    }
   ],
   "source": [
    "pump_1 = pp.Pump(\n",
    "    path=\"../../pvpumpingsystem/data/pump_files/SCB_10_150_120_BL.txt\")\n",
    "\n",
    "pump_2 = pp.Pump(\n",
    "    path=\"../../pvpumpingsystem/data/pump_files/SCB_10_150_180_BL.txt\")\n",
    "\n",
    "# For the pump remember that the details given in the text file can be\n",
    "# overwritten in its definition: for example the price is overwritten here.\n",
    "pump_3 = pp.Pump(\n",
    "    path=\"../../pvpumpingsystem/data/pump_files/SCS_12_127_60_BL.txt\",\n",
    "    price=1300)\n",
    "\n",
    "# The database must be provided under the form of a list for the sizing:\n",
    "pump_database = [pump_1,\n",
    "                 pump_2,\n",
    "                 pump_3]"
   ]
  },
  {
   "cell_type": "markdown",
   "metadata": {},
   "source": [
    "The user has the choice between two different PV modules here. The names of these must be given in a list as well:"
   ]
  },
  {
   "cell_type": "code",
   "execution_count": 3,
   "metadata": {},
   "outputs": [],
   "source": [
    "pv_database = ['Kyocera solar KU270 6MCA',\n",
    "               'Canadian Solar CS5C 80M']"
   ]
  },
  {
   "cell_type": "markdown",
   "metadata": {},
   "source": [
    "As it relies on a factorial design, the computation time can increase rapidly if the databases are too long. This sizing is therefore more relevant when applied on relatively small databases, unless you have time..."
   ]
  },
  {
   "cell_type": "markdown",
   "metadata": {},
   "source": [
    "## Rest of the system"
   ]
  },
  {
   "cell_type": "markdown",
   "metadata": {},
   "source": [
    "Then, the rest of the system is defined. This part is therefore fixed and will not be sized."
   ]
  },
  {
   "cell_type": "markdown",
   "metadata": {},
   "source": [
    "The sizing module provides some functions to shorten the computation time. The one used here keeps only the worst month (the month with the lowest global horizontal irradiance) in the weather data. This way, the computation time is approximately divided by 12."
   ]
  },
  {
   "cell_type": "code",
   "execution_count": 4,
   "metadata": {},
   "outputs": [],
   "source": [
    "# Weather input\n",
    "weather_data, weather_metadata = pvlib.iotools.epw.read_epw(\n",
    "    '../../pvpumpingsystem/data/weather_files/TUN_Tunis.607150_IWEC.epw',\n",
    "    coerce_year=2005)\n",
    "weather_data = sizing.shrink_weather_worst_month(weather_data)\n"
   ]
  },
  {
   "cell_type": "markdown",
   "metadata": {},
   "source": [
    "Then the weather data can be imported into a PVGeneration object. In this object, the 'pv_module_name' attribute is not important but cannot be None. Also, there is no need to give a number of modules in parallel or in series as it is automatically sized later in the process."
   ]
  },
  {
   "cell_type": "code",
   "execution_count": 5,
   "metadata": {},
   "outputs": [],
   "source": [
    "# PV generator parameters\n",
    "pvgen1 = pvgen.PVGeneration(\n",
    "            # Weather data\n",
    "            weather_data_and_metadata={\n",
    "                    'weather_data': weather_data,\n",
    "                    'weather_metadata': weather_metadata},  # to adapt:\n",
    "\n",
    "            # PV array parameters\n",
    "            pv_module_name=pv_database[0],\n",
    "            price_per_watt=2.5,  # in US dollars\n",
    "            surface_tilt=45,  # 0 = horizontal, 90 = vertical\n",
    "            surface_azimuth=180,  # 180 = South, 90 = East\n",
    "            albedo=0.3,  # between 0 and 1\n",
    "            racking_model='open_rack',  # or'close_mount' or 'insulated_back'\n",
    "\n",
    "            # Models used\n",
    "            orientation_strategy=None,  # or 'flat' or 'south_at_latitude_tilt'\n",
    "            clearsky_model='ineichen',\n",
    "            transposition_model='haydavies',\n",
    "            solar_position_method='nrel_numpy',\n",
    "            airmass_model='kastenyoung1989',\n",
    "            dc_model='desoto',  # 'desoto' or 'cec'.\n",
    "            ac_model='pvwatts',\n",
    "            aoi_model='physical',\n",
    "            spectral_model='no_loss',\n",
    "            temperature_model='sapm',\n",
    "            losses_model='no_loss'\n",
    "            )"
   ]
  },
  {
   "cell_type": "markdown",
   "metadata": {},
   "source": [
    "The rest of the system does not differ from the simulation examples seen before: "
   ]
  },
  {
   "cell_type": "code",
   "execution_count": 6,
   "metadata": {},
   "outputs": [],
   "source": [
    "# MPPT\n",
    "mppt1 = mppt.MPPT(efficiency=0.96,\n",
    "                  price=1000)\n",
    "\n",
    "# Pipes set-up\n",
    "pipes1 = pn.PipeNetwork(h_stat=20,  # vertical static head [m]\n",
    "                       l_tot=100,  # length of pipes [m]\n",
    "                       diam=0.05,  # diameter of pipes [m]\n",
    "                       material='plastic')\n",
    "\n",
    "# Reservoir\n",
    "reservoir1 = rv.Reservoir(size=5000,  # [L]\n",
    "                          water_volume=0,  # [L] at beginning\n",
    "                          price=(1010+210))  # 210 is pipes price\n"
   ]
  },
  {
   "cell_type": "markdown",
   "metadata": {},
   "source": [
    "The consumption input is maybe the most important. It represents the need of the final user."
   ]
  },
  {
   "cell_type": "code",
   "execution_count": 7,
   "metadata": {},
   "outputs": [],
   "source": [
    "# Consumption input\n",
    "# represents 7200L/day\n",
    "consumption_data = cs.Consumption(constant_flow=5)  # in L/min\n"
   ]
  },
  {
   "cell_type": "markdown",
   "metadata": {},
   "source": [
    "Definition of the system. PVGeneration object must be given even if some attributes will be changed afterward by the sizing function. Pump attribute can be kept as None."
   ]
  },
  {
   "cell_type": "code",
   "execution_count": 8,
   "metadata": {},
   "outputs": [],
   "source": [
    "\n",
    "pvps_fixture = pvps.PVPumpSystem(pvgen1,\n",
    "                                 None,\n",
    "                                 motorpump_model='arab',\n",
    "                                 coupling='mppt',\n",
    "                                 mppt=mppt1,\n",
    "                                 reservoir=reservoir1,\n",
    "                                 pipes=pipes1,\n",
    "                                 consumption=consumption_data)\n"
   ]
  },
  {
   "cell_type": "markdown",
   "metadata": {},
   "source": [
    "## Result"
   ]
  },
  {
   "cell_type": "markdown",
   "metadata": {},
   "source": [
    "Eventually, run the function to get the best system. The attribute 'llp_accepted' is important here as it will be used to determine the number of PV module required for each combination. It represents the Loss of Load Probability (=Water shortage probability). For systems aimed at providing critical domestic water it should be typically kept under 0.05 (5%), and for irrigation systems it can be more flexible (depending on the crop, the soil, ...).\n",
    "In order to compute the net present value (`npv`), the financial parameters must be given as keyword arguments here as well.\n",
    "In the present case, it should take around 30 seconds to find the best combination."
   ]
  },
  {
   "cell_type": "code",
   "execution_count": 9,
   "metadata": {},
   "outputs": [
    {
     "name": "stderr",
     "output_type": "stream",
     "text": [
      "\r",
      "Research of best combination:   0%|                                                              | 0/2 [00:00<?, ?it/s]"
     ]
    },
    {
     "name": "stdout",
     "output_type": "stream",
     "text": [
      "module: Kyocera_Solar_KU270_6MCA / pump: SCB_10_150_120_BL / M_s: 5 / llp: 0.005967761904012374 / npv: 11698.04544037404\n",
      "module: Kyocera_Solar_KU270_6MCA / pump: SCB_10_150_120_BL / M_s: 4 / llp: 0.02220801779686927 / npv: 10888.015440374038\n",
      "module: Kyocera_Solar_KU270_6MCA / pump: SCB_10_150_120_BL / M_s: 3 / llp: 0.1015403764354007 / npv: 10077.98544037404\n",
      "module: Kyocera_Solar_KU270_6MCA / pump: SCB_10_150_120_BL / M_s: 4 / llp: 0.02220801779686927 / npv: 10888.015440374038\n",
      "module: Kyocera_Solar_KU270_6MCA / pump: SCB_10_150_180_BL / M_s: 5 / llp: 0.03539426523297491 / npv: 11861.586347147155\n",
      "module: Kyocera_Solar_KU270_6MCA / pump: SCB_10_150_180_BL / M_s: 4 / llp: 0.05186642702867146 / npv: 11051.556347147154\n",
      "module: Kyocera_Solar_KU270_6MCA / pump: SCB_10_150_180_BL / M_s: 5 / llp: 0.03539426523297491 / npv: 11861.586347147155\n",
      "module: Kyocera_Solar_KU270_6MCA / pump: SCS_12_127_60_BL / M_s: 5 / llp: 0.007479875918178493 / npv: 12152.823578386948\n",
      "module: Kyocera_Solar_KU270_6MCA / pump: SCS_12_127_60_BL / M_s: 4 / llp: 0.02109467026317708 / npv: 11342.793578386947\n",
      "module: Kyocera_Solar_KU270_6MCA / pump: SCS_12_127_60_BL / M_s: 3 / llp: 0.08135001447842254 / npv: 10532.763578386948\n"
     ]
    },
    {
     "name": "stderr",
     "output_type": "stream",
     "text": [
      "\r",
      "Research of best combination:  50%|███████████████████████████                           | 1/2 [00:07<00:07,  7.39s/it]"
     ]
    },
    {
     "name": "stdout",
     "output_type": "stream",
     "text": [
      "module: Kyocera_Solar_KU270_6MCA / pump: SCS_12_127_60_BL / M_s: 4 / llp: 0.02109467026317708 / npv: 11342.793578386947\n",
      "module: Canadian_Solar_Inc__CS5C_80M / pump: SCB_10_150_120_BL / M_s: 5 / llp: 0.47807788062984186 / npv: 8850.145440374039\n",
      "module: Canadian_Solar_Inc__CS5C_80M / pump: SCB_10_150_120_BL / M_s: 6 / llp: 0.36041991174164234 / npv: 9090.59544037404\n",
      "module: Canadian_Solar_Inc__CS5C_80M / pump: SCB_10_150_120_BL / M_s: 7 / llp: 0.28599183977330006 / npv: 9331.04544037404\n",
      "module: Canadian_Solar_Inc__CS5C_80M / pump: SCB_10_150_120_BL / M_s: 8 / llp: 0.22212701835287782 / npv: 9571.49544037404\n",
      "module: Canadian_Solar_Inc__CS5C_80M / pump: SCB_10_150_120_BL / M_s: 9 / llp: 0.1629358534013387 / npv: 9811.945440374038\n",
      "module: Canadian_Solar_Inc__CS5C_80M / pump: SCB_10_150_120_BL / M_s: 10 / llp: 0.11193007478607034 / npv: 10052.395440374039\n",
      "module: Canadian_Solar_Inc__CS5C_80M / pump: SCB_10_150_120_BL / M_s: 11 / llp: 0.07645672295472879 / npv: 10292.84544037404\n",
      "module: Canadian_Solar_Inc__CS5C_80M / pump: SCB_10_150_120_BL / M_s: 12 / llp: 0.05017532731728692 / npv: 10533.295440374039\n",
      "module: Canadian_Solar_Inc__CS5C_80M / pump: SCB_10_150_120_BL / M_s: 13 / llp: 0.030032736720232277 / npv: 10773.745440374038\n",
      "module: Canadian_Solar_Inc__CS5C_80M / pump: SCB_10_150_180_BL / M_s: 5 / llp: 0.578699243932947 / npv: 9013.686347147153\n",
      "module: Canadian_Solar_Inc__CS5C_80M / pump: SCB_10_150_180_BL / M_s: 6 / llp: 0.4964498307210534 / npv: 9254.136347147154\n",
      "module: Canadian_Solar_Inc__CS5C_80M / pump: SCB_10_150_180_BL / M_s: 7 / llp: 0.41422951299125016 / npv: 9494.586347147153\n",
      "module: Canadian_Solar_Inc__CS5C_80M / pump: SCB_10_150_180_BL / M_s: 8 / llp: 0.3462766605008122 / npv: 9735.036347147154\n",
      "module: Canadian_Solar_Inc__CS5C_80M / pump: SCB_10_150_180_BL / M_s: 9 / llp: 0.2621222172176485 / npv: 9975.486347147153\n",
      "module: Canadian_Solar_Inc__CS5C_80M / pump: SCB_10_150_180_BL / M_s: 10 / llp: 0.14686683747789986 / npv: 10215.936347147153\n",
      "module: Canadian_Solar_Inc__CS5C_80M / pump: SCB_10_150_180_BL / M_s: 11 / llp: 0.11452486223211267 / npv: 10456.386347147154\n",
      "module: Canadian_Solar_Inc__CS5C_80M / pump: SCB_10_150_180_BL / M_s: 12 / llp: 0.08648281421093716 / npv: 10696.836347147153\n",
      "module: Canadian_Solar_Inc__CS5C_80M / pump: SCB_10_150_180_BL / M_s: 13 / llp: 0.05309278387737493 / npv: 10937.286347147154\n",
      "module: Canadian_Solar_Inc__CS5C_80M / pump: SCB_10_150_180_BL / M_s: 14 / llp: 0.04704301075268817 / npv: 11177.736347147154\n",
      "module: Canadian_Solar_Inc__CS5C_80M / pump: SCS_12_127_60_BL / M_s: 5 / llp: 0.4553269606194705 / npv: 9304.923578386948\n",
      "module: Canadian_Solar_Inc__CS5C_80M / pump: SCS_12_127_60_BL / M_s: 6 / llp: 0.3535014789904017 / npv: 9545.373578386947\n",
      "module: Canadian_Solar_Inc__CS5C_80M / pump: SCS_12_127_60_BL / M_s: 7 / llp: 0.27333430616720666 / npv: 9785.823578386948\n",
      "module: Canadian_Solar_Inc__CS5C_80M / pump: SCS_12_127_60_BL / M_s: 8 / llp: 0.194449713894309 / npv: 10026.273578386948\n",
      "module: Canadian_Solar_Inc__CS5C_80M / pump: SCS_12_127_60_BL / M_s: 9 / llp: 0.13220416363607695 / npv: 10266.723578386947\n",
      "module: Canadian_Solar_Inc__CS5C_80M / pump: SCS_12_127_60_BL / M_s: 10 / llp: 0.08966387112422607 / npv: 10507.173578386948\n",
      "module: Canadian_Solar_Inc__CS5C_80M / pump: SCS_12_127_60_BL / M_s: 11 / llp: 0.05100787584676597 / npv: 10747.623578386947\n"
     ]
    },
    {
     "name": "stderr",
     "output_type": "stream",
     "text": [
      "Research of best combination: 100%|██████████████████████████████████████████████████████| 2/2 [00:21<00:00, 10.61s/it]"
     ]
    },
    {
     "name": "stdout",
     "output_type": "stream",
     "text": [
      "module: Canadian_Solar_Inc__CS5C_80M / pump: SCS_12_127_60_BL / M_s: 12 / llp: 0.029852077900683456 / npv: 10988.073578386948\n"
     ]
    },
    {
     "name": "stderr",
     "output_type": "stream",
     "text": [
      "\n"
     ]
    }
   ],
   "source": [
    "selection, total = sizing.sizing_minimize_npv(pv_database,\n",
    "                                              pump_database,\n",
    "                                              weather_data,\n",
    "                                              weather_metadata,\n",
    "                                              pvps_fixture,\n",
    "                                              llp_accepted=0.05,\n",
    "                                              M_s_guess=5,\n",
    "                                              discount_rate=0.05,\n",
    "                                              opex=100)"
   ]
  },
  {
   "cell_type": "code",
   "execution_count": 10,
   "metadata": {},
   "outputs": [
    {
     "name": "stdout",
     "output_type": "stream",
     "text": [
      "Cheapest PV pumping system:\n",
      "    M_p   M_s       llp          npv               pump  \\\n",
      "3  1.0  13.0  0.030033  10773.74544  SCB_10_150_120_BL   \n",
      "\n",
      "                      pv_module  \n",
      "3  Canadian_Solar_Inc__CS5C_80M  \n"
     ]
    }
   ],
   "source": [
    "# Final result:\n",
    "print('Cheapest PV pumping system:\\n', selection)"
   ]
  },
  {
   "cell_type": "code",
   "execution_count": null,
   "metadata": {},
   "outputs": [],
   "source": []
  }
 ],
 "metadata": {
  "kernelspec": {
   "display_name": "Python 3",
   "language": "python",
   "name": "python3"
  },
  "language_info": {
   "codemirror_mode": {
    "name": "ipython",
    "version": 3
   },
   "file_extension": ".py",
   "mimetype": "text/x-python",
   "name": "python",
   "nbconvert_exporter": "python",
   "pygments_lexer": "ipython3",
   "version": "3.7.7"
  }
 },
 "nbformat": 4,
 "nbformat_minor": 4
}
