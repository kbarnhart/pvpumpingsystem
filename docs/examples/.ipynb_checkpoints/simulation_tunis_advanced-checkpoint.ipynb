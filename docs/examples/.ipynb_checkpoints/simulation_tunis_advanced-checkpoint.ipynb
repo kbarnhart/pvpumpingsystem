{
 "cells": [
  {
   "cell_type": "markdown",
   "metadata": {},
   "source": [
    "# Example of an advanced simulation done with pvpumpingsystem"
   ]
  },
  {
   "cell_type": "markdown",
   "metadata": {},
   "source": [
    "*N.B.: This example builds on top of the basic one ``simulation_tunis_basic.ipynb``. It is strongly recommended to consult this first one before reading the current example, as the code explained before is not discussed here.*"
   ]
  },
  {
   "cell_type": "markdown",
   "metadata": {},
   "source": [
    "In this example, we consider more particularly a village of 40 people that want to replace their old diesel pump by a PV one. The use of water is domestic, and therefore water needs are quite constant all year round. As the system will now be dependent on the intermittency of the sun, a water tank is added in order to mitigate the risk of water shortage."
   ]
  },
  {
   "cell_type": "markdown",
   "metadata": {},
   "source": [
    "## Code"
   ]
  },
  {
   "cell_type": "markdown",
   "metadata": {},
   "source": [
    "Import of modules:"
   ]
  },
  {
   "cell_type": "code",
   "execution_count": 1,
   "metadata": {},
   "outputs": [],
   "source": [
    "import matplotlib.pyplot as plt\n",
    "import pvlib\n",
    "\n",
    "import pvpumpingsystem.pvgeneration as pvgen\n",
    "import pvpumpingsystem.mppt as mppt\n",
    "import pvpumpingsystem.pump as pp\n",
    "import pvpumpingsystem.pipenetwork as pn\n",
    "import pvpumpingsystem.reservoir as rv\n",
    "import pvpumpingsystem.consumption as cs\n",
    "import pvpumpingsystem.pvpumpsystem as pvps"
   ]
  },
  {
   "cell_type": "markdown",
   "metadata": {},
   "source": [
    "In this case, the weather file is retrieved from PVGIS using the coordinates of the location studied. To this end, a tool from the package *pvlib* is used and an internet connection is needed.\n",
    "\n",
    "Note that the different tools of *pvlib* do not always return the same outputs. Therefore using these tools also requires to dig a bit deeper into the *pvlib* documentation and in the understanding of what the data is made of. In the present case, ``pvlib.iotools.get_pvgis_tmy()`` returns a tuple of 4 elements, and only the first and the fourth are important for the rest of the PV modeling. \n",
    "\n",
    "Moreover it returns a TMY file as it is, that it to say with each month being the meteorological record of a different year. In *pvpumpingsystem* the simulation is typically made on one continuous year, so the data must be adapted so as the timestamp contains one single year. Here 2005 is arbitrarily chosen, the only advice here is to avoid leap years."
   ]
  },
  {
   "cell_type": "code",
   "execution_count": 2,
   "metadata": {},
   "outputs": [],
   "source": [
    "# Import a weather file built by PVGIS according to latitude and longitude\n",
    "data, _, _, metadata = pvlib.iotools.get_pvgis_tmy(\n",
    "    lat=36.0,  # latitude of selected location\n",
    "    lon=10.0,  # longitude of selected location\n",
    "    outputformat='epw')  # output format of file\n",
    "\n",
    "# coerce the weather file to one single year to avoid bug with consumption file\n",
    "data.year = 2005\n",
    "data.index = data.index.map(lambda t: t.replace(year=2005))"
   ]
  },
  {
   "cell_type": "markdown",
   "metadata": {},
   "source": [
    "Now, the import of the weather file into the PV generation part is done via the definition of a dict containing the data and the metadata.\n",
    "\n",
    "The price of the PV array must be given in dollar per watt (if a 200W module with its rack costs 400USD, the price is 400/200 = 2 USD/W). The surface tilt and azimuth can be set as well. Here the surface tilt is set at 50° (whereas the latitude is 36°) in order to maximize the PV yield in winter and to equalize the power generation along the year.\n",
    "The attributes ``glass_params`` and ``racking_model`` are respectively used to compute the irradiance losses due to reflection/absorption of the cover, and to calculate the PV cell temperature according to the possibility of heat losses via convection at the back of the module (also uses the wind speed data to this end).\n",
    "\n",
    "The third section deals with the models to use in the photovoltaic modeling. Numerous models were developed and a fair part is available in *pvlib*. In *pvpumpingsystem*, in the case of modeling a direct coupling with motor-pump, ``dc_model`` must be a single diode model, i.e. 'desoto' or 'cec'. In the present case, the spectral_model is turned off via 'no_loss'. This is because the TMY file retrieved with PVGIS does not contain comprehensive weather data (particularly the 'precipitable_water' column) which prevents from modeling the spectral modification of irradiance. Note that the losses model ``pvwatts`` is highly simplified and can also interfere in some cases with the accuracy of the direct coupling. It can be turned off with 'no_loss' as well, or can be kept as a conservative assumption on the power generation."
   ]
  },
  {
   "cell_type": "code",
   "execution_count": 3,
   "metadata": {},
   "outputs": [],
   "source": [
    "# ------------ PV MODELING ----------------------\n",
    "\n",
    "pvgen1 = pvgen.PVGeneration(\n",
    "    # Weather data path\n",
    "    weather_data_and_metadata={\n",
    "        'weather_data': data,\n",
    "        'weather_metadata': metadata},\n",
    "\n",
    "    # PV array parameters\n",
    "    pv_module_name='Canadian Solar CS5C 80M',\n",
    "    price_per_watt=2.5,  # in US dollars\n",
    "    surface_tilt=50,  # 0 = horizontal, 90 = vertical\n",
    "    surface_azimuth=180,  # 180 = South, 90 = East\n",
    "    albedo=0.3,  # between 0 and 1\n",
    "    modules_per_string=4,  # 4 for mppt, 5 for direct (llp smaller, cheaper)\n",
    "    strings_in_parallel=1,\n",
    "    # PV module glazing parameters (not always given in specs)\n",
    "    glass_params={'K': 4,  # extinction coefficient [1/m]\n",
    "                  'L': 0.002,  # thickness [m]\n",
    "                  'n': 1.526},  # refractive index\n",
    "    racking_model='open_rack',  # or'close_mount' or 'insulated_back'\n",
    "\n",
    "    # Models used (check pvlib.modelchain for all available models)\n",
    "    orientation_strategy=None,  # or 'flat', or 'south_at_latitude_tilt'\n",
    "    clearsky_model='ineichen',\n",
    "    transposition_model='isotropic',\n",
    "    solar_position_method='nrel_numpy',\n",
    "    airmass_model='kastenyoung1989',\n",
    "    dc_model='desoto',  # 'desoto' or 'cec', must be a single diode model.\n",
    "    ac_model='pvwatts',\n",
    "    aoi_model='physical',\n",
    "    spectral_model='no_loss',\n",
    "    temperature_model='sapm',\n",
    "    losses_model='pvwatts'\n",
    "    )"
   ]
  },
  {
   "cell_type": "markdown",
   "metadata": {},
   "source": [
    "After having defined the PVGeneration object, it can be run separately if needed. It allows to check some particular outputs on the PV generation part without having to run the entire simulation for example."
   ]
  },
  {
   "cell_type": "code",
   "execution_count": 4,
   "metadata": {},
   "outputs": [],
   "source": [
    "pvgen1.run_model()"
   ]
  },
  {
   "cell_type": "markdown",
   "metadata": {},
   "source": [
    "MPPT/DC-DC converter is pretty simple and clear."
   ]
  },
  {
   "cell_type": "code",
   "execution_count": 5,
   "metadata": {},
   "outputs": [],
   "source": [
    "mppt1 = mppt.MPPT(efficiency=0.96,\n",
    "                  price=410,\n",
    "                  idname='PCA-120-BLS-M2'\n",
    "                  )"
   ]
  },
  {
   "cell_type": "markdown",
   "metadata": {},
   "source": [
    "As the user does not necessarily already know what pump will be best, more than one can be defined here in order to test the several options afterward.\n",
    "\n",
    "As for photovoltaic modeling, different models exist for modeling a motor-pump functioning with a non-ideal source of power like photovoltaic generators. Four main categories of model were implemented in *pvpumpingsystem*, and can be called with the keywords 'kou', 'arab', 'hamidat' and 'theoretical'. References to the literature on which the functions rely are given in the corresponding function docstrings. The choice of a model can depend on the completeness of specifications or on the coupling chosen. For instance, 'hamidat' can only be used with an MPPT coupling, and 'theoretical' necessarily needs to have the ``motor_electrical_architecture`` parameter informed. More information is given in the functions docstring. Remember as well that some of the information (ex: ``price``) can be read from the pump file and do not need to be explicitly defined as for ``pump_shurflo``."
   ]
  },
  {
   "cell_type": "code",
   "execution_count": 6,
   "metadata": {},
   "outputs": [],
   "source": [
    "pump_sunpump = pp.Pump(path=\"../../pvpumpingsystem/data/\"\n",
    "                       \"pump_files/SCB_10_150_120_BL.txt\",\n",
    "                       modeling_method='kou')\n",
    "\n",
    "pump_shurflo = pp.Pump(path=\"../../pvpumpingsystem/data/\"\n",
    "                       \"../data/pump_files/Shurflo_9325.txt\",\n",
    "                       price=640,  # USD\n",
    "                       motor_electrical_architecture='permanent_magnet',\n",
    "                       modeling_method='arab')"
   ]
  },
  {
   "cell_type": "markdown",
   "metadata": {},
   "source": [
    "The pipes are the same than in the basic case."
   ]
  },
  {
   "cell_type": "code",
   "execution_count": 7,
   "metadata": {},
   "outputs": [],
   "source": [
    "pipes1 = pn.PipeNetwork(h_stat=20,  # static head [m]\n",
    "                        l_tot=100,  # length of pipes [m]\n",
    "                        diam=0.05,  # diameter [m]\n",
    "                        material='plastic')"
   ]
  },
  {
   "cell_type": "markdown",
   "metadata": {},
   "source": [
    "As for the pumps, two options are defined for reservoirs. Note that the price of water tank made of potable water grade plastic is significant and should not be underestimated."
   ]
  },
  {
   "cell_type": "code",
   "execution_count": 8,
   "metadata": {},
   "outputs": [],
   "source": [
    "reservoir1 = rv.Reservoir(size=5000,  # [L]\n",
    "                          water_volume=0,  # [L] at beginning\n",
    "                          price=(1010+210))  # 210 is pipes price\n",
    "\n",
    "reservoir2 = rv.Reservoir(size=1000,  # [L]\n",
    "                          water_volume=0,  # [L] at beginning\n",
    "                          price=(500+210))  # 210 is pipes price"
   ]
  },
  {
   "cell_type": "markdown",
   "metadata": {},
   "source": [
    "The consumption file is an important input in order to evaluate if the pumping system will pump enough water compared to the needs. It can be defined directly through a pandas.DataFrame giving the hourly flow rate, or by constructing it with the ``Consumption`` builder. ``repeated_flow`` allows to multiply the given sequence of hourly flow rates until getting the same size than the weather file. In the present case, a sequence of 24 elements represents the hourly flow rate in a day, and this consumption profile is then repeated on the whole year. More basic construction can be done by considering a constant flow all year round with ``constant_flow``. The flow rate unit is liter per minute.\n",
    "\n",
    "Remember that this package is not relevant for big pumping systems like the ones needed in conventional agriculture. Most of the time, when important flow rates are needed, AC pumps become unavoidable, and as of now *pvpumpingsystem* does not support AC pumps."
   ]
  },
  {
   "cell_type": "code",
   "execution_count": 9,
   "metadata": {},
   "outputs": [],
   "source": [
    "# represents 2880L/day ~ domestic water use of 40 people\n",
    "consumption_daily = cs.Consumption(\n",
    "    repeated_flow=[0, 0, 0, 0, 0, 0,\n",
    "                   0, 0, 2, 1, 1, 3,\n",
    "                   9, 7, 3, 3, 3, 5,\n",
    "                   6, 3, 1, 1, 0, 0])\n",
    "\n",
    "# represents 2880L/day ~ continuous drip irrigation of 1000m² of garden\n",
    "consumption_cst = cs.Consumption(constant_flow=2)  # output flow rate [L/min]\n"
   ]
  },
  {
   "cell_type": "markdown",
   "metadata": {},
   "source": [
    "Last step is to put the pieces together and to run the simulation. It is also time to give the parameters for the financial analysis."
   ]
  },
  {
   "cell_type": "code",
   "execution_count": 10,
   "metadata": {},
   "outputs": [],
   "source": [
    "# Here you gather all components of you PV pumping system previously defined:\n",
    "pvps1 = pvps.PVPumpSystem(pvgen1,\n",
    "                          pump_sunpump,\n",
    "                          coupling='mppt',  # to adapt: 'mppt' or 'direct',\n",
    "                          mppt=mppt1,\n",
    "                          pipes=pipes1,\n",
    "                          consumption=consumption_daily,\n",
    "                          reservoir=reservoir1)\n",
    "\n",
    "pvps1.run_model(iteration=False, starting_soc='morning',\n",
    "                discount_rate=0.05, labour_price_coefficient=0.2, opex=200,\n",
    "                lifespan_pv=30, lifespan_mppt=15, lifespan_pump=10)"
   ]
  },
  {
   "cell_type": "markdown",
   "metadata": {},
   "source": [
    "## Results"
   ]
  },
  {
   "cell_type": "markdown",
   "metadata": {},
   "source": [
    "Numerous data can be extracted after the running of the code. For example the total volume of water pumped through the year can be obtained by integration of the flow rates. Note here that the system considers that the pump carries on pumping even when the water tank is full (the tank overflows, and it can be expected that extra water is used somewhere else or goes back to the well). That is why the total amount of water can significantly exceed the total amount of water needed in some cases, like when a low loss-of-load probability must be ensured."
   ]
  },
  {
   "cell_type": "code",
   "execution_count": 11,
   "metadata": {},
   "outputs": [
    {
     "name": "stdout",
     "output_type": "stream",
     "text": [
      "PVPSystem made of: \n",
      "pvgeneration: PV generator made of: \n",
      "pv module: Canadian_Solar_Inc__CS5C_80M\n",
      "number of modules: 4\n",
      "in: Location: \n",
      "  name: unknown\n",
      "  latitude: 36.0\n",
      "  longitude: 10.0\n",
      "  altitude: 154.0\n",
      "  tz: 1.0 \n",
      "pump: name: SCB_10_150_120_BL\n",
      "price: 1097.0\n",
      "modeling method: kou)\n",
      "\n",
      "Total water pumped in the year =  1619251.561643424\n",
      "\n",
      "LLP =  0.01646403303997627\n",
      "\n",
      "Initial investment = 4234.2 USD\n",
      "\n",
      "NPV = 9003.367850121223 USD\n"
     ]
    }
   ],
   "source": [
    "print(pvps1)\n",
    "print('\\nTotal water pumped in the year = ', pvps1.flow.Qlpm.sum()*60)\n",
    "print('\\nLLP = ', pvps1.llp)  # Load Loss Probability = probability of water shortage\n",
    "print('\\nInitial investment = {0} USD'.format(pvps1.initial_investment))\n",
    "print('\\nNPV = {0} USD'.format(pvps1.npv))  # net present value = life cycle cost"
   ]
  },
  {
   "cell_type": "markdown",
   "metadata": {},
   "source": [
    "Representation of level in reservoir and water pumped between february 15 to 20:"
   ]
  },
  {
   "cell_type": "code",
   "execution_count": 12,
   "metadata": {},
   "outputs": [
    {
     "data": {
      "image/png": "[encoded data removed]",
      "text/plain": [
       "<Figure size 432x288 with 2 Axes>"
      ]
     },
     "metadata": {
      "needs_background": "light"
     },
     "output_type": "display_data"
    }
   ],
   "source": [
    "# Part of data to plot\n",
    "truncated_flow = pvps1.flow['2005-02-15' <= pvps1.flow.index]\n",
    "truncated_flow = truncated_flow[truncated_flow.index <= '2005-02-20']\n",
    "\n",
    "truncated_tank = pvps1.water_stored['2005-02-15' <= pvps1.water_stored.index]\n",
    "truncated_tank = truncated_tank[truncated_tank.index <= '2005-02-20']\n",
    "\n",
    "# Water volume in reservoir and output flow rate\n",
    "fig, ax1 = plt.subplots()\n",
    "\n",
    "ax1.set_xlabel('time')\n",
    "ax1.set_ylabel('Water volume in tank [L]', color='r')\n",
    "ax1.plot(truncated_tank.index, truncated_tank.volume, color='r',\n",
    "         linewidth=1)\n",
    "ax1.tick_params(axis='y', labelcolor='r')\n",
    "\n",
    "ax2 = ax1.twinx()  # instantiate a second axes that shares the same x-axis\n",
    "\n",
    "ax2.set_ylabel('Pump output flow-rate [L/min]', color='b')\n",
    "ax2.plot(truncated_flow.index, truncated_flow.Qlpm, color='b',\n",
    "         linewidth=1)\n",
    "ax2.tick_params(axis='y', labelcolor='b')\n",
    "\n",
    "fig.tight_layout()  # otherwise the right y-label is slightly clipped\n",
    "\n",
    "plt.show()"
   ]
  },
  {
   "cell_type": "code",
   "execution_count": null,
   "metadata": {},
   "outputs": [],
   "source": []
  }
 ],
 "metadata": {
  "kernelspec": {
   "display_name": "Python 3",
   "language": "python",
   "name": "python3"
  },
  "language_info": {
   "codemirror_mode": {
    "name": "ipython",
    "version": 3
   },
   "file_extension": ".py",
   "mimetype": "text/x-python",
   "name": "python",
   "nbconvert_exporter": "python",
   "pygments_lexer": "ipython3",
   "version": "3.7.7"
  }
 },
 "nbformat": 4,
 "nbformat_minor": 4
}
