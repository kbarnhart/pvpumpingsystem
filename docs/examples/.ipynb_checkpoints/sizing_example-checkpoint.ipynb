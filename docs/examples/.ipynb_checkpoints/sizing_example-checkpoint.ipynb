{
 "cells": [
  {
   "cell_type": "markdown",
   "metadata": {},
   "source": [
    "# Example of automated sizing with pvpumpingsystem"
   ]
  },
  {
   "cell_type": "markdown",
   "metadata": {},
   "source": [
    "This example follows on from the two that relate more specifically to simulation, namely 'simulation_tunis_basic.ipynb' and 'simulation_tunis_advanced.ipynb'. The concepts already covered in these examples are not discussed again here.\n",
    "\n",
    "The sizing presented here is a sizing that chooses the best combination of motor-pump and PV module to reduce the life cycle cost of a system. It first computes the number of PV modules required for each combination to pump enough water in order to respect the maximum water shortage probability (named llp). Then it selects the combination with the lowest net present value.\n",
    "\n",
    "Numerous criteria and algorithms can be used for sizing such systems. The module 'sizing.py' leaves room for many improvements, extension and new functions. Do not hesitate to share once you have developed the sizing method that suits you best!"
   ]
  },
  {
   "cell_type": "code",
   "execution_count": 1,
   "metadata": {},
   "outputs": [],
   "source": [
    "import pvlib\n",
    "\n",
    "import pvpumpingsystem.pump as pp\n",
    "import pvpumpingsystem.pipenetwork as pn\n",
    "import pvpumpingsystem.consumption as cs\n",
    "import pvpumpingsystem.pvpumpsystem as pvps\n",
    "import pvpumpingsystem.pvgeneration as pvgen\n",
    "import pvpumpingsystem.reservoir as rv\n",
    "import pvpumpingsystem.mppt as mppt\n",
    "from pvpumpingsystem import sizing"
   ]
  },
  {
   "cell_type": "markdown",
   "metadata": {},
   "source": [
    "## Pump and PV module databases"
   ]
  },
  {
   "cell_type": "markdown",
   "metadata": {},
   "source": [
    "Three pumps are available here. The user wants to find the one which fits best for the application. First the 3 pumps must be imported.\n",
    "\n",
    "Note that the motor-pumps coming from 'sunpump' follow a naming convention: the 3 numbers are respectively the flow rate in GPM, the Head in feet, and the voltage in V at the rated operating point. Note that the rated voltage is also the maximum input voltage for the pump."
   ]
  },
  {
   "cell_type": "code",
   "execution_count": 2,
   "metadata": {},
   "outputs": [
    {
     "name": "stderr",
     "output_type": "stream",
     "text": [
      "c:\\users\\tanguy\\documents\\code\\src\\pvpumpingsystem\\pvpumpingsystem\\pump.py:96: UserWarning: price attribute overwritten.\n",
      "  warnings.warn('price attribute overwritten.')\n"
     ]
    }
   ],
   "source": [
    "pump_1 = pp.Pump(\n",
    "    path=\"../../pvpumpingsystem/data/pump_files/SCB_10_150_120_BL.txt\")\n",
    "\n",
    "pump_2 = pp.Pump(\n",
    "    path=\"../../pvpumpingsystem/data/pump_files/SCB_10_150_180_BL.txt\")\n",
    "\n",
    "# For the pump remember that the details given in the text file can be\n",
    "# overwritten in its definition: for example the price is overwritten here.\n",
    "pump_3 = pp.Pump(\n",
    "    path=\"../../pvpumpingsystem/data/pump_files/SCS_12_127_60_BL.txt\",\n",
    "    price=1300)\n",
    "\n",
    "# The database must be provided under the form of a list for the sizing:\n",
    "pump_database = [pump_1,\n",
    "                 pump_2,\n",
    "                 pump_3]"
   ]
  },
  {
   "cell_type": "markdown",
   "metadata": {},
   "source": [
    "The user has the choice between two different PV modules here. The names of these must be given in a list as well:"
   ]
  },
  {
   "cell_type": "code",
   "execution_count": 3,
   "metadata": {},
   "outputs": [],
   "source": [
    "pv_database = ['Kyocera solar KU270 6MCA',\n",
    "               'Canadian Solar CS5C 80M']"
   ]
  },
  {
   "cell_type": "markdown",
   "metadata": {},
   "source": [
    "As it relies on a factorial design, the computation time can increase rapidly if the databases are too long. This sizing is therefore more relevant when applied on relatively small databases, unless you have time..."
   ]
  },
  {
   "cell_type": "markdown",
   "metadata": {},
   "source": [
    "## Rest of the system"
   ]
  },
  {
   "cell_type": "markdown",
   "metadata": {},
   "source": [
    "Then, the rest of the system is defined. This part is therefore fixed and will not be sized."
   ]
  },
  {
   "cell_type": "markdown",
   "metadata": {},
   "source": [
    "The sizing module provides some functions to shorten the computation time. The one used here keeps only the worst month (the month with the lowest global horizontal irradiance) in the weather data. This way, the computation time is approximately divided by 12."
   ]
  },
  {
   "cell_type": "code",
   "execution_count": 4,
   "metadata": {},
   "outputs": [],
   "source": [
    "# Weather input\n",
    "weather_data, weather_metadata = pvlib.iotools.epw.read_epw(\n",
    "    '../../pvpumpingsystem/data/weather_files/TUN_Tunis.607150_IWEC.epw',\n",
    "    coerce_year=2005)\n",
    "weather_data = sizing.shrink_weather_worst_month(weather_data)\n"
   ]
  },
  {
   "cell_type": "markdown",
   "metadata": {},
   "source": [
    "Then the weather data can be imported into a PVGeneration object. In this object, the 'pv_module_name' attribute is not important but cannot be None. Also, there is no need to give a number of modules in parallel or in series as it is automatically sized later in the process."
   ]
  },
  {
   "cell_type": "code",
   "execution_count": 5,
   "metadata": {},
   "outputs": [],
   "source": [
    "# PV generator parameters\n",
    "pvgen1 = pvgen.PVGeneration(\n",
    "            # Weather data\n",
    "            weather_data_and_metadata={\n",
    "                    'weather_data': weather_data,\n",
    "                    'weather_metadata': weather_metadata},  # to adapt:\n",
    "\n",
    "            # PV array parameters\n",
    "            pv_module_name=pv_database[0],\n",
    "            price_per_watt=2.5,  # in US dollars\n",
    "            surface_tilt=45,  # 0 = horizontal, 90 = vertical\n",
    "            surface_azimuth=180,  # 180 = South, 90 = East\n",
    "            albedo=0.3,  # between 0 and 1\n",
    "            racking_model='open_rack',  # or'close_mount' or 'insulated_back'\n",
    "\n",
    "            # Models used\n",
    "            orientation_strategy=None,  # or 'flat' or 'south_at_latitude_tilt'\n",
    "            clearsky_model='ineichen',\n",
    "            transposition_model='haydavies',\n",
    "            solar_position_method='nrel_numpy',\n",
    "            airmass_model='kastenyoung1989',\n",
    "            dc_model='desoto',  # 'desoto' or 'cec'.\n",
    "            ac_model='pvwatts',\n",
    "            aoi_model='physical',\n",
    "            spectral_model='no_loss',\n",
    "            temperature_model='sapm',\n",
    "            losses_model='no_loss'\n",
    "            )"
   ]
  },
  {
   "cell_type": "markdown",
   "metadata": {},
   "source": [
    "The rest of the system does not differ from the simulation examples seen before: "
   ]
  },
  {
   "cell_type": "code",
   "execution_count": 6,
   "metadata": {},
   "outputs": [],
   "source": [
    "# MPPT\n",
    "mppt1 = mppt.MPPT(efficiency=0.96,\n",
    "                  price=1000)\n",
    "\n",
    "# Pipes set-up\n",
    "pipes1 = pn.PipeNetwork(h_stat=20,  # vertical static head [m]\n",
    "                       l_tot=100,  # length of pipes [m]\n",
    "                       diam=0.05,  # diameter of pipes [m]\n",
    "                       material='plastic')\n",
    "\n",
    "# Reservoir\n",
    "reservoir1 = rv.Reservoir(size=5000,  # [L]\n",
    "                          water_volume=0,  # [L] at beginning\n",
    "                          price=(1010+210))  # 210 is pipes price\n"
   ]
  },
  {
   "cell_type": "markdown",
   "metadata": {},
   "source": [
    "The consumption input is maybe the most important. It represents the need of the final user."
   ]
  },
  {
   "cell_type": "code",
   "execution_count": 7,
   "metadata": {},
   "outputs": [],
   "source": [
    "# Consumption input\n",
    "# represents 7200L/day\n",
    "consumption_data = cs.Consumption(constant_flow=5)  # in L/min\n"
   ]
  },
  {
   "cell_type": "markdown",
   "metadata": {},
   "source": [
    "Definition of the system. PVGeneration object must be given even if some attributes will be changed afterward by the sizing function. Pump attribute can be kept as None."
   ]
  },
  {
   "cell_type": "code",
   "execution_count": 8,
   "metadata": {},
   "outputs": [],
   "source": [
    "\n",
    "pvps_fixture = pvps.PVPumpSystem(pvgen1,\n",
    "                                 None,\n",
    "                                 motorpump_model='arab',\n",
    "                                 coupling='mppt',\n",
    "                                 mppt=mppt1,\n",
    "                                 reservoir=reservoir1,\n",
    "                                 pipes=pipes1,\n",
    "                                 consumption=consumption_data)\n"
   ]
  },
  {
   "cell_type": "markdown",
   "metadata": {},
   "source": [
    "## Result"
   ]
  },
  {
   "cell_type": "markdown",
   "metadata": {},
   "source": [
    "Eventually, run the function to get the best system. The attribute 'llp_accepted' is important here as it will be used to determine the number of PV module required for each combination. It represents the Loss of Load Probability (=Water shortage probability). For systems aimed at providing critical domestic water it should be typically kept under 0.05 (5%), and for irrigation systems it can be more flexible (depending on the crop, the soil, ...).\n",
    "In order to compute the net present value (`npv`), the financial parameters must be given as keyword arguments here as well.\n",
    "In the present case, it should take around 30 seconds to find the best combination."
   ]
  },
  {
   "cell_type": "code",
   "execution_count": 11,
   "metadata": {},
   "outputs": [
    {
     "name": "stderr",
     "output_type": "stream",
     "text": [
      "Research of best combination:   0%|                                                              | 0/2 [00:00<?, ?it/s]C:\\ProgramData\\Anaconda3\\lib\\site-packages\\pvlib\\atmosphere.py:439: UserWarning: Exceptionally low pw values replaced with 0.1 cm to prevent model divergence\n",
      "  'model divergence'.format(min_pw))\n",
      "C:\\ProgramData\\Anaconda3\\lib\\site-packages\\pvlib\\singlediode.py:538: RuntimeWarning: invalid value encountered in greater\n",
      "  idx_p = 0. < Gsh\n",
      "C:\\ProgramData\\Anaconda3\\lib\\site-packages\\pvlib\\tools.py:411: RuntimeWarning: invalid value encountered in greater\n",
      "  df['SW_Flag'] = df['f1'] > df['f2']\n",
      "C:\\ProgramData\\Anaconda3\\lib\\site-packages\\pvlib\\tools.py:418: RuntimeWarning: invalid value encountered in greater\n",
      "  errflag = (abs(err) > .01).any()\n"
     ]
    },
    {
     "name": "stdout",
     "output_type": "stream",
     "text": [
      "module: Kyocera_Solar_KU270_6MCA / pump: SCB_10_150_120_BL / M_s: 5 / llp: 0.0064849789225592605 / npv: 18431.244247195013\n",
      "module: Kyocera_Solar_KU270_6MCA / pump: SCB_10_150_120_BL / M_s: 4 / llp: 0.02782648892517525 / npv: 17621.21424719501\n",
      "module: Kyocera_Solar_KU270_6MCA / pump: SCB_10_150_120_BL / M_s: 3 / llp: 0.11305873196260395 / npv: 16811.184247195015\n",
      "module: Kyocera_Solar_KU270_6MCA / pump: SCB_10_150_120_BL / M_s: 4 / llp: 0.02782648892517525 / npv: 17621.21424719501\n",
      "module: Kyocera_Solar_KU270_6MCA / pump: SCB_10_150_180_BL / M_s: 5 / llp: 0.036290322580645164 / npv: 18594.785153968125\n",
      "module: Kyocera_Solar_KU270_6MCA / pump: SCB_10_150_180_BL / M_s: 4 / llp: 0.05252195695557961 / npv: 17784.755153968126\n",
      "module: Kyocera_Solar_KU270_6MCA / pump: SCB_10_150_180_BL / M_s: 5 / llp: 0.036290322580645164 / npv: 18594.785153968125\n",
      "module: Kyocera_Solar_KU270_6MCA / pump: SCS_12_127_60_BL / M_s: 5 / llp: 0.009048487427110974 / npv: 18886.022385207918\n",
      "module: Kyocera_Solar_KU270_6MCA / pump: SCS_12_127_60_BL / M_s: 4 / llp: 0.022809991257268986 / npv: 18075.99238520792\n",
      "module: Kyocera_Solar_KU270_6MCA / pump: SCS_12_127_60_BL / M_s: 3 / llp: 0.09047933190834812 / npv: 17265.96238520792\n"
     ]
    },
    {
     "name": "stderr",
     "output_type": "stream",
     "text": [
      "\r",
      "Research of best combination:  50%|███████████████████████████                           | 1/2 [00:07<00:07,  7.86s/it]"
     ]
    },
    {
     "name": "stdout",
     "output_type": "stream",
     "text": [
      "module: Kyocera_Solar_KU270_6MCA / pump: SCS_12_127_60_BL / M_s: 4 / llp: 0.022809991257268986 / npv: 18075.99238520792\n",
      "module: Canadian_Solar_Inc__CS5C_80M / pump: SCB_10_150_120_BL / M_s: 5 / llp: 0.48880740347138474 / npv: 15583.344247195017\n",
      "module: Canadian_Solar_Inc__CS5C_80M / pump: SCB_10_150_120_BL / M_s: 6 / llp: 0.36562414863012355 / npv: 15823.794247195015\n",
      "module: Canadian_Solar_Inc__CS5C_80M / pump: SCB_10_150_120_BL / M_s: 7 / llp: 0.2910378787899883 / npv: 16064.244247195016\n",
      "module: Canadian_Solar_Inc__CS5C_80M / pump: SCB_10_150_120_BL / M_s: 8 / llp: 0.22749118846577143 / npv: 16304.694247195017\n",
      "module: Canadian_Solar_Inc__CS5C_80M / pump: SCB_10_150_120_BL / M_s: 9 / llp: 0.16887809545938248 / npv: 16545.144247195018\n",
      "module: Canadian_Solar_Inc__CS5C_80M / pump: SCB_10_150_120_BL / M_s: 10 / llp: 0.11777069512945539 / npv: 16785.594247195015\n",
      "module: Canadian_Solar_Inc__CS5C_80M / pump: SCB_10_150_120_BL / M_s: 11 / llp: 0.07951903386145426 / npv: 17026.044247195012\n",
      "module: Canadian_Solar_Inc__CS5C_80M / pump: SCB_10_150_120_BL / M_s: 12 / llp: 0.05416594921476162 / npv: 17266.494247195013\n",
      "module: Canadian_Solar_Inc__CS5C_80M / pump: SCB_10_150_120_BL / M_s: 13 / llp: 0.03250495564917959 / npv: 17506.944247195013\n",
      "module: Canadian_Solar_Inc__CS5C_80M / pump: SCB_10_150_180_BL / M_s: 5 / llp: 0.5904252597725915 / npv: 15746.88515396813\n",
      "module: Canadian_Solar_Inc__CS5C_80M / pump: SCB_10_150_180_BL / M_s: 6 / llp: 0.5028884677749029 / npv: 15987.335153968132\n",
      "module: Canadian_Solar_Inc__CS5C_80M / pump: SCB_10_150_180_BL / M_s: 7 / llp: 0.4156575648009386 / npv: 16227.785153968132\n",
      "module: Canadian_Solar_Inc__CS5C_80M / pump: SCB_10_150_180_BL / M_s: 8 / llp: 0.352675301726311 / npv: 16468.235153968133\n",
      "module: Canadian_Solar_Inc__CS5C_80M / pump: SCB_10_150_180_BL / M_s: 9 / llp: 0.26402029929496695 / npv: 16708.68515396813\n",
      "module: Canadian_Solar_Inc__CS5C_80M / pump: SCB_10_150_180_BL / M_s: 10 / llp: 0.16816924971716518 / npv: 16949.135153968127\n",
      "module: Canadian_Solar_Inc__CS5C_80M / pump: SCB_10_150_180_BL / M_s: 11 / llp: 0.12272606971329161 / npv: 17189.585153968128\n",
      "module: Canadian_Solar_Inc__CS5C_80M / pump: SCB_10_150_180_BL / M_s: 12 / llp: 0.09289244939143189 / npv: 17430.03515396813\n",
      "module: Canadian_Solar_Inc__CS5C_80M / pump: SCB_10_150_180_BL / M_s: 13 / llp: 0.053486355343897674 / npv: 17670.485153968126\n",
      "module: Canadian_Solar_Inc__CS5C_80M / pump: SCB_10_150_180_BL / M_s: 14 / llp: 0.04879178080400894 / npv: 17910.935153968127\n",
      "module: Canadian_Solar_Inc__CS5C_80M / pump: SCS_12_127_60_BL / M_s: 5 / llp: 0.4622837559118465 / npv: 16038.122385207926\n",
      "module: Canadian_Solar_Inc__CS5C_80M / pump: SCS_12_127_60_BL / M_s: 6 / llp: 0.35967015725219903 / npv: 16278.572385207925\n",
      "module: Canadian_Solar_Inc__CS5C_80M / pump: SCS_12_127_60_BL / M_s: 7 / llp: 0.279880493680942 / npv: 16519.022385207925\n",
      "module: Canadian_Solar_Inc__CS5C_80M / pump: SCS_12_127_60_BL / M_s: 8 / llp: 0.20152885666659665 / npv: 16759.472385207926\n",
      "module: Canadian_Solar_Inc__CS5C_80M / pump: SCS_12_127_60_BL / M_s: 9 / llp: 0.13792435550307566 / npv: 16999.922385207923\n",
      "module: Canadian_Solar_Inc__CS5C_80M / pump: SCS_12_127_60_BL / M_s: 10 / llp: 0.09404249503065523 / npv: 17240.37238520792\n",
      "module: Canadian_Solar_Inc__CS5C_80M / pump: SCS_12_127_60_BL / M_s: 11 / llp: 0.055438174474160454 / npv: 17480.82238520792\n"
     ]
    },
    {
     "name": "stderr",
     "output_type": "stream",
     "text": [
      "Research of best combination: 100%|██████████████████████████████████████████████████████| 2/2 [00:22<00:00, 11.03s/it]"
     ]
    },
    {
     "name": "stdout",
     "output_type": "stream",
     "text": [
      "module: Canadian_Solar_Inc__CS5C_80M / pump: SCS_12_127_60_BL / M_s: 12 / llp: 0.03207945040756089 / npv: 17721.272385207918\n"
     ]
    },
    {
     "name": "stderr",
     "output_type": "stream",
     "text": [
      "\n"
     ]
    }
   ],
   "source": [
    "selection, total = sizing.sizing_minimize_npv(pv_database,\n",
    "                                              pump_database,\n",
    "                                              weather_data,\n",
    "                                              weather_metadata,\n",
    "                                              pvps_fixture,\n",
    "                                              llp_accepted=0.05,\n",
    "                                              M_s_guess=5,\n",
    "                                              discount_rate=0.05,\n",
    "                                              opex=100)"
   ]
  },
  {
   "cell_type": "code",
   "execution_count": 12,
   "metadata": {},
   "outputs": [
    {
     "name": "stdout",
     "output_type": "stream",
     "text": [
      "Cheapest PV pumping system:\n",
      "    M_p   M_s       llp           npv               pump  \\\n",
      "3  1.0  13.0  0.032505  17506.944247  SCB_10_150_120_BL   \n",
      "\n",
      "                      pv_module  \n",
      "3  Canadian_Solar_Inc__CS5C_80M  \n"
     ]
    }
   ],
   "source": [
    "# Final result:\n",
    "print('Cheapest PV pumping system:\\n', selection)"
   ]
  },
  {
   "cell_type": "code",
   "execution_count": null,
   "metadata": {},
   "outputs": [],
   "source": []
  }
 ],
 "metadata": {
  "kernelspec": {
   "display_name": "Python 3",
   "language": "python",
   "name": "python3"
  },
  "language_info": {
   "codemirror_mode": {
    "name": "ipython",
    "version": 3
   },
   "file_extension": ".py",
   "mimetype": "text/x-python",
   "name": "python",
   "nbconvert_exporter": "python",
   "pygments_lexer": "ipython3",
   "version": "3.7.7"
  }
 },
 "nbformat": 4,
 "nbformat_minor": 4
}
